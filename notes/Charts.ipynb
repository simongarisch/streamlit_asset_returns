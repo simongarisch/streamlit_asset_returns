{
 "cells": [
  {
   "cell_type": "markdown",
   "metadata": {},
   "source": [
    "## Charts"
   ]
  },
  {
   "cell_type": "code",
   "execution_count": 1,
   "metadata": {},
   "outputs": [],
   "source": [
    "import math\n",
    "import bokeh.plotting\n",
    "import numpy as np\n",
    "\n",
    "\n",
    "e = math.exp(1)\n",
    "x = np.arange(1, 200)\n",
    "y = (1 + 1/x) ** x\n",
    "\n",
    "chart = bokeh.plotting.figure(title=\"Euler's Number\", sizing_mode=\"stretch_width\")\n",
    "chart.line(x, y, line_width=2, color=\"blue\")\n",
    "chart.line(x, e, line_width=2, color=\"red\")\n",
    "chart.xaxis.axis_label = \"x\"\n",
    "chart.yaxis.axis_label = \"y\"\n",
    "\n",
    "bokeh.plotting.show(chart)"
   ]
  },
  {
   "cell_type": "code",
   "execution_count": 2,
   "metadata": {},
   "outputs": [
    {
     "data": {
      "text/plain": [
       "bokeh.plotting.figure.Figure"
      ]
     },
     "execution_count": 2,
     "metadata": {},
     "output_type": "execute_result"
    }
   ],
   "source": [
    "type(chart)"
   ]
  },
  {
   "cell_type": "code",
   "execution_count": null,
   "metadata": {},
   "outputs": [],
   "source": []
  },
  {
   "cell_type": "code",
   "execution_count": null,
   "metadata": {},
   "outputs": [],
   "source": []
  }
 ],
 "metadata": {
  "kernelspec": {
   "display_name": "py36",
   "language": "python",
   "name": "py36"
  },
  "language_info": {
   "codemirror_mode": {
    "name": "ipython",
    "version": 3
   },
   "file_extension": ".py",
   "mimetype": "text/x-python",
   "name": "python",
   "nbconvert_exporter": "python",
   "pygments_lexer": "ipython3",
   "version": "3.6.6"
  }
 },
 "nbformat": 4,
 "nbformat_minor": 2
}
